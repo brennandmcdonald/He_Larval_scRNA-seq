{
 "cells": [
  {
   "cell_type": "markdown",
   "id": "ffeebcc1",
   "metadata": {},
   "source": [
    "# Combine Extracted R data into an Anndata"
   ]
  },
  {
   "cell_type": "code",
   "execution_count": null,
   "id": "1d4de052",
   "metadata": {
    "ExecuteTime": {
     "end_time": "2022-12-16T00:03:38.692001Z",
     "start_time": "2022-12-16T00:03:31.525137Z"
    }
   },
   "outputs": [],
   "source": [
    "import numpy as np\n",
    "import pandas as pd\n",
    "from matplotlib import pyplot as plt\n",
    "from matplotlib.lines import Line2D\n",
    "from scipy.io import mmread\n",
    "import scipy\n",
    "import anndata\n",
    "import re\n",
    "import math\n",
    "import umap\n",
    "import scanpy"
   ]
  },
  {
   "cell_type": "code",
   "execution_count": null,
   "id": "c520f1d5",
   "metadata": {
    "ExecuteTime": {
     "end_time": "2022-12-16T00:03:38.701348Z",
     "start_time": "2022-12-16T00:03:38.698386Z"
    }
   },
   "outputs": [],
   "source": [
    "DATA_PATH = \"data/\"\n",
    "\n",
    "MTX_PATH = DATA_PATH + 'HERY_SCT.mtx'\n",
    "SEURAT_ANNO_PATH = DATA_PATH + 'HERY_seurat_anno.csv'\n",
    "CELL_ANNO_PATH = DATA_PATH + 'cell_annotations_hery.txt'\n",
    "VAR_PATH = DATA_PATH + 'HERY_var.csv'\n",
    "UMAP_PATH = DATA_PATH + 'HERY_umap.csv'\n",
    "\n",
    "SAVE_PATH = DATA_PATH + 'HERY_adata_anno_v2.h5ad'"
   ]
  },
  {
   "cell_type": "markdown",
   "id": "85ebc535",
   "metadata": {},
   "source": [
    "## Read Data and Combine"
   ]
  },
  {
   "cell_type": "code",
   "execution_count": null,
   "id": "618a0293",
   "metadata": {
    "ExecuteTime": {
     "end_time": "2022-12-16T00:04:38.040971Z",
     "start_time": "2022-12-16T00:03:45.496818Z"
    }
   },
   "outputs": [],
   "source": [
    "# Read the SCT normalized counts\n",
    "# Transpose so that rows are cells and columns are genes\n",
    "expr_SCT = mmread(MTX_PATH).T.tocsc()"
   ]
  },
  {
   "cell_type": "code",
   "execution_count": null,
   "id": "c8a866a7",
   "metadata": {
    "ExecuteTime": {
     "end_time": "2022-12-16T00:04:38.202664Z",
     "start_time": "2022-12-16T00:04:38.043297Z"
    }
   },
   "outputs": [],
   "source": [
    "# Read the metadata from the seurat file\n",
    "obs = pd.read_csv(SEURAT_ANNO_PATH, index_col=0)\n",
    "\n",
    "# Convert the stage into a number, rather than a string\n",
    "obs['hpf'] = obs['Stage'].apply(lambda x: x.split('h')[0])\n",
    "obs['hpf'] = obs['hpf'].astype('int')\n",
    "\n",
    "# Remove unnecessary columns\n",
    "obs = obs[['hpf', 'seurat_clusters']].copy()\n",
    "\n",
    "# Read the high level cell annotations and add it to the obs\n",
    "cell_anno = pd.read_csv(CELL_ANNO_PATH, sep = \"\\t\", index_col=0)\n",
    "obs.loc[cell_anno.index, 'type'] = cell_anno['cell_type']\n",
    "\n",
    "# Read the umap for the cells and add it on\n",
    "umap = pd.read_csv(UMAP_PATH, index_col=0)\n",
    "obs.loc[umap.index, 'UMAP_1'] = umap['UMAP_1']\n",
    "obs.loc[umap.index, 'UMAP_2'] = umap['UMAP_2']\n",
    "\n",
    "# Read the var\n",
    "var = pd.read_csv(VAR_PATH, index_col=0)\n",
    "\n",
    "# Remove the empty column\n",
    "var = var[[]].copy()"
   ]
  },
  {
   "cell_type": "code",
   "execution_count": null,
   "id": "ef9c1589",
   "metadata": {
    "scrolled": true
   },
   "outputs": [],
   "source": [
    "print(cell_anno)"
   ]
  },
  {
   "cell_type": "code",
   "execution_count": null,
   "id": "25f68845",
   "metadata": {
    "ExecuteTime": {
     "end_time": "2022-12-16T00:05:55.865790Z",
     "start_time": "2022-12-16T00:05:50.196759Z"
    }
   },
   "outputs": [],
   "source": [
    "# Form the anndata object\n",
    "adata = anndata.AnnData(X=expr_SCT, obs=obs, var=var)\n",
    "adata.write_h5ad(SAVE_PATH, compression='gzip')"
   ]
  },
  {
   "cell_type": "code",
   "execution_count": null,
   "id": "39eac2b1",
   "metadata": {},
   "outputs": [],
   "source": [
    "print(adata.obs.head(10))"
   ]
  },
  {
   "cell_type": "markdown",
   "id": "5245d0a1",
   "metadata": {},
   "source": [
    "## Plot Diagnostics"
   ]
  },
  {
   "cell_type": "code",
   "execution_count": null,
   "id": "593d602e",
   "metadata": {
    "ExecuteTime": {
     "end_time": "2022-12-16T00:05:56.314346Z",
     "start_time": "2022-12-16T00:05:55.868035Z"
    }
   },
   "outputs": [],
   "source": [
    "plt.figure(figsize=(10, 10))\n",
    "plt.axis('off')\n",
    "\n",
    "plt.title('UMAP colored by hpf')\n",
    "plt.scatter(adata.obs.UMAP_1, adata.obs.UMAP_2, c=adata.obs.hpf)\n",
    "plt.colorbar()"
   ]
  },
  {
   "cell_type": "code",
   "execution_count": null,
   "id": "b0214c0d",
   "metadata": {},
   "outputs": [],
   "source": []
  }
 ],
 "metadata": {
  "hide_input": false,
  "kernelspec": {
   "display_name": "Python 3 (ipykernel)",
   "language": "python",
   "name": "python3"
  },
  "language_info": {
   "codemirror_mode": {
    "name": "ipython",
    "version": 3
   },
   "file_extension": ".py",
   "mimetype": "text/x-python",
   "name": "python",
   "nbconvert_exporter": "python",
   "pygments_lexer": "ipython3",
   "version": "3.11.2"
  }
 },
 "nbformat": 4,
 "nbformat_minor": 5
}
