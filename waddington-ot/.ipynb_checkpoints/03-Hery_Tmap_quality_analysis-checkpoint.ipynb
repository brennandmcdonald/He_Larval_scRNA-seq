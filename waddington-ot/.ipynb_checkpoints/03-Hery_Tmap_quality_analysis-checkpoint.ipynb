{
 "cells": [
  {
   "cell_type": "markdown",
   "id": "manufactured-retro",
   "metadata": {},
   "source": [
    "# Analysis of Transport Map Quality\n",
    "\n",
    "To see how good the transport maps we've generated are, we can omit timepoints, and then use the generated transport maps to interpolate between them. The interpolated timepoint can then be compared to the ground truth. See: https://nbviewer.org/github/broadinstitute/wot/blob/master/notebooks/Notebook-7-ot-validation.ipynb."
   ]
  },
  {
   "cell_type": "code",
   "execution_count": null,
   "id": "enormous-radar",
   "metadata": {
    "ExecuteTime": {
     "end_time": "2022-12-20T19:49:07.294272Z",
     "start_time": "2022-12-20T19:49:04.425410Z"
    }
   },
   "outputs": [],
   "source": [
    "import wot\n",
    "import numpy as np\n",
    "import pandas as pd\n",
    "from matplotlib import pyplot as plt\n",
    "import os\n",
    "import scanpy as sc\n",
    "import anndata\n",
    "import plotly as py"
   ]
  },
  {
   "cell_type": "code",
   "execution_count": null,
   "id": "relevant-board",
   "metadata": {
    "ExecuteTime": {
     "end_time": "2022-12-20T19:49:07.299588Z",
     "start_time": "2022-12-20T19:49:07.296553Z"
    }
   },
   "outputs": [],
   "source": [
    "DATA_PATH = \"data/\"\n",
    "\n",
    "ADATA_PATH = DATA_PATH + 'HERY_adata_anno_v2.h5ad'\n",
    "LV_GROWTH_PATH = DATA_PATH + 'cell_growth_hpf_g20_hery.csv'\n",
    "\n",
    "TMAP_SAVE_PATH = DATA_PATH + 'tmap/'\n",
    "VALIDATION_DAVE_PATH = DATA_PATH + 'validation.csv'"
   ]
  },
  {
   "cell_type": "code",
   "execution_count": null,
   "id": "circular-return",
   "metadata": {
    "ExecuteTime": {
     "end_time": "2022-12-20T19:49:08.383650Z",
     "start_time": "2022-12-20T19:49:07.301930Z"
    }
   },
   "outputs": [],
   "source": [
    "# Read our existing data\n",
    "adata = anndata.read_h5ad(ADATA_PATH)\n",
    "exp_rates = pd.read_csv(LV_GROWTH_PATH, index_col=0)"
   ]
  },
  {
   "cell_type": "markdown",
   "id": "pressing-dividend",
   "metadata": {},
   "source": [
    "## Make the Validation Plot"
   ]
  },
  {
   "cell_type": "code",
   "execution_count": null,
   "id": "needed-frontier",
   "metadata": {
    "ExecuteTime": {
     "end_time": "2022-12-20T19:49:08.393234Z",
     "start_time": "2022-12-20T19:49:08.386092Z"
    }
   },
   "outputs": [],
   "source": [
    "ot_model = wot.ot.OTModel(adata, day_field = 'hpf', growth_rate_field='lv_growth', epsilon = 0.05, lambda1= 1, lambda2= 50, growth_iters = 20)"
   ]
  },
  {
   "cell_type": "code",
   "execution_count": null,
   "id": "corporate-strengthening",
   "metadata": {
    "ExecuteTime": {
     "end_time": "2022-12-20T20:10:12.160984Z",
     "start_time": "2022-12-20T19:49:08.394865Z"
    },
    "scrolled": true
   },
   "outputs": [],
   "source": [
    "#ot_model = wot.tmap.TransportMapModel.from_directory(TMAP_SAVE_PATH, with_covariates=True)\n",
    "\n",
    "all_triplets_summary = wot.ot.compute_validation_summary(ot_model)\n",
    "\n",
    "# save results\n",
    "all_triplets_stats = all_triplets_summary.groupby(['interval_mid', 'name'])['distance'].agg([np.mean, np.std])\n",
    "all_triplets_stats.to_csv(VALIDATION_DAVE_PATH)"
   ]
  },
  {
   "cell_type": "code",
   "execution_count": null,
   "id": "amber-trauma",
   "metadata": {
    "ExecuteTime": {
     "end_time": "2022-12-20T20:10:12.186481Z",
     "start_time": "2022-12-20T20:10:12.163446Z"
    }
   },
   "outputs": [],
   "source": [
    "all_triplets_summary"
   ]
  },
  {
   "cell_type": "code",
   "execution_count": null,
   "id": "handmade-columbus",
   "metadata": {
    "ExecuteTime": {
     "end_time": "2022-12-20T20:10:12.393688Z",
     "start_time": "2022-12-20T20:10:12.188106Z"
    }
   },
   "outputs": [],
   "source": [
    "wot.graphics.plot_ot_validation_summary_stats(all_triplets_stats)"
   ]
  },
  {
   "cell_type": "code",
   "execution_count": null,
   "id": "historic-visibility",
   "metadata": {},
   "outputs": [],
   "source": []
  }
 ],
 "metadata": {
  "hide_input": false,
  "kernelspec": {
   "display_name": "Python 3 (ipykernel)",
   "language": "python",
   "name": "python3"
  },
  "language_info": {
   "codemirror_mode": {
    "name": "ipython",
    "version": 3
   },
   "file_extension": ".py",
   "mimetype": "text/x-python",
   "name": "python",
   "nbconvert_exporter": "python",
   "pygments_lexer": "ipython3",
   "version": "3.11.2"
  }
 },
 "nbformat": 4,
 "nbformat_minor": 5
}
