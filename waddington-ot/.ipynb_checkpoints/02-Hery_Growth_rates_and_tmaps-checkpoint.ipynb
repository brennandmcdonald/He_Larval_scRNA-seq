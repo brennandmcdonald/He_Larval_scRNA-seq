{
 "cells": [
  {
   "cell_type": "markdown",
   "id": "protecting-robin",
   "metadata": {},
   "source": [
    "# Make Transport Maps\n",
    "\n",
    "We want to make transport maps between the timepoints. To do this, we first need an estimate of growth rates. We can use the original LV rates and then perform growth iterations to learn the \"actual rates\". It may also be useful to consider different starting ways to compute these growth rates. Some variants on this could include modifying the starting LV distribution by eliminating micromeres, or simply to use the cell cycle score."
   ]
  },
  {
   "cell_type": "code",
   "execution_count": null,
   "id": "another-private",
   "metadata": {
    "ExecuteTime": {
     "end_time": "2022-12-16T00:06:24.190721Z",
     "start_time": "2022-12-16T00:06:20.666736Z"
    }
   },
   "outputs": [],
   "source": [
    "import wot\n",
    "import numpy as np\n",
    "import pandas as pd\n",
    "from matplotlib import pyplot as plt\n",
    "import os\n",
    "import scanpy as sc\n",
    "import anndata\n",
    "import plotly as py"
   ]
  },
  {
   "cell_type": "code",
   "execution_count": null,
   "id": "fitted-defense",
   "metadata": {
    "ExecuteTime": {
     "end_time": "2022-12-16T00:23:28.412525Z",
     "start_time": "2022-12-16T00:23:28.409674Z"
    }
   },
   "outputs": [],
   "source": [
    "DATA_PATH = \"data/\"\n",
    "\n",
    "ADATA_PATH = DATA_PATH + 'HERY_adata_anno_v2.h5ad'\n",
    "LV_GROWTH_PATH = DATA_PATH + 'cell_growth_hpf_expected_hery.csv'\n",
    "\n",
    "TMAP_SAVE_PATH = DATA_PATH + 'tmap/'"
   ]
  },
  {
   "cell_type": "code",
   "execution_count": null,
   "id": "fiscal-doctor",
   "metadata": {
    "ExecuteTime": {
     "end_time": "2022-12-16T00:06:25.190576Z",
     "start_time": "2022-12-16T00:06:24.249949Z"
    }
   },
   "outputs": [],
   "source": [
    "# Read our existing data\n",
    "adata = anndata.read_h5ad(ADATA_PATH)\n",
    "exp_rates = pd.read_csv(LV_GROWTH_PATH, index_col=0)"
   ]
  },
  {
   "cell_type": "code",
   "execution_count": null,
   "id": "informal-address",
   "metadata": {
    "ExecuteTime": {
     "end_time": "2022-12-16T00:10:11.806100Z",
     "start_time": "2022-12-16T00:10:11.787405Z"
    }
   },
   "outputs": [],
   "source": [
    "exp_rates"
   ]
  },
  {
   "cell_type": "code",
   "execution_count": null,
   "id": "controversial-estate",
   "metadata": {
    "ExecuteTime": {
     "end_time": "2022-12-16T00:22:48.725061Z",
     "start_time": "2022-12-16T00:22:43.391030Z"
    }
   },
   "outputs": [],
   "source": [
    "adata.write_h5ad(ADATA_PATH, compression='gzip')"
   ]
  },
  {
   "cell_type": "markdown",
   "id": "quantitative-intranet",
   "metadata": {},
   "source": [
    "## Learn Growth and Make Tmaps"
   ]
  },
  {
   "cell_type": "code",
   "execution_count": null,
   "id": "behavioral-wages",
   "metadata": {
    "ExecuteTime": {
     "end_time": "2022-12-16T00:57:02.320267Z",
     "start_time": "2022-12-16T00:23:35.429457Z"
    },
    "scrolled": true
   },
   "outputs": [],
   "source": [
    "ot_model = wot.ot.OTModel(adata, day_field = 'hpf', growth_rate_field='lv_growth', epsilon = 0.05, lambda1= 1, lambda2= 50, growth_iters = 20)\n",
    "ot_model.compute_all_transport_maps(tmap_out=TMAP_SAVE_PATH)"
   ]
  },
  {
   "cell_type": "code",
   "execution_count": null,
   "id": "incorrect-scroll",
   "metadata": {
    "ExecuteTime": {
     "end_time": "2022-12-16T00:57:02.352695Z",
     "start_time": "2022-12-16T00:57:02.322761Z"
    }
   },
   "outputs": [],
   "source": [
    "tmap_model = wot.tmap.TransportMapModel.from_directory(TMAP_SAVE_PATH)"
   ]
  },
  {
   "cell_type": "code",
   "execution_count": null,
   "id": "composed-killer",
   "metadata": {
    "ExecuteTime": {
     "end_time": "2022-12-16T00:57:02.394134Z",
     "start_time": "2022-12-16T00:57:02.354714Z"
    }
   },
   "outputs": [],
   "source": [
    "# Check for convergence by computing the mean difference between growth iters\n",
    "c_6_9 = tmap_model.get_coupling(42, 48)\n",
    "\n",
    "for i in range(len(c_6_9.obs.columns)-1):\n",
    "    print(np.abs(c_6_9.obs.iloc[:, i+1] - c_6_9.obs.iloc[:, i]).mean())"
   ]
  },
  {
   "cell_type": "code",
   "execution_count": null,
   "id": "checked-thriller",
   "metadata": {},
   "outputs": [],
   "source": [
    "tmap_model"
   ]
  },
  {
   "cell_type": "markdown",
   "id": "fdf825b9",
   "metadata": {},
   "source": [
    "# Rebuild Transport Maps"
   ]
  },
  {
   "cell_type": "code",
   "execution_count": null,
   "id": "ca4086fe",
   "metadata": {},
   "outputs": [],
   "source": [
    "import pandas as pd"
   ]
  },
  {
   "cell_type": "code",
   "execution_count": null,
   "id": "53c3e5d4",
   "metadata": {},
   "outputs": [],
   "source": [
    "# Load the data into a DataFrame\n",
    "\n",
    "df = pd.read_table('data/tmap/tmaps_g.txt')"
   ]
  },
  {
   "cell_type": "code",
   "execution_count": null,
   "id": "aeb9a537-6398-4600-97bb-df7b0230b176",
   "metadata": {},
   "outputs": [],
   "source": [
    "df"
   ]
  },
  {
   "cell_type": "code",
   "execution_count": null,
   "id": "d8dd7143",
   "metadata": {},
   "outputs": [],
   "source": [
    "cell_anno = pd.read_csv('data/cell_annotations_hery.txt', sep = \"\\t\", index_col=0)\n",
    "\n",
    "g20 = df[['id','g20']]\n",
    "\n",
    "merged_df = pd.merge(g20, cell_anno, left_on='id', right_on='barcode')"
   ]
  },
  {
   "cell_type": "code",
   "execution_count": null,
   "id": "bce25870",
   "metadata": {},
   "outputs": [],
   "source": [
    "merged_df[['hr', 'cell_id']] = merged_df['id'].str.split('h', n=1, expand=True)\n",
    "merged_df['hr'] = merged_df['hr'].astype('int')\n",
    "merged_df"
   ]
  },
  {
   "cell_type": "code",
   "execution_count": null,
   "id": "c115f65f",
   "metadata": {},
   "outputs": [],
   "source": [
    "result = merged_df.groupby(['cell_type', 'hr'])['g20'].mean()\n",
    "matrix = result.unstack(level=0)\n",
    "matrix = matrix.fillna(0)\n",
    "matrix"
   ]
  },
  {
   "cell_type": "code",
   "execution_count": null,
   "id": "d16a970b",
   "metadata": {},
   "outputs": [],
   "source": [
    "matrix.to_csv('data/cell_growth_hpf_g20_hery.csv', index=True)\n"
   ]
  },
  {
   "cell_type": "markdown",
   "id": "52d8fa7c",
   "metadata": {},
   "source": [
    "# Update Transport Maps\n",
    "\n",
    "We want to make transport maps between the timepoints. To do this, we first need an estimate of growth rates. We can use the original LV rates and then perform growth iterations to learn the \"actual rates\". It may also be useful to consider different starting ways to compute these growth rates. Some variants on this could include modifying the starting LV distribution by eliminating micromeres, or simply to use the cell cycle score."
   ]
  },
  {
   "cell_type": "code",
   "execution_count": null,
   "id": "3edae34c",
   "metadata": {},
   "outputs": [],
   "source": [
    "DATA_PATH = \"data/\"\n",
    "ADATA_PATH = DATA_PATH + 'HERY_adata_anno_v2.h5ad'\n",
    "LV_GROWTH_PATH = DATA_PATH + 'cell_growth_hpf_g20_hery.csv'\n",
    "TMAP_SAVE_PATH = DATA_PATH + 'tmap/'"
   ]
  },
  {
   "cell_type": "code",
   "execution_count": null,
   "id": "adb4ea40",
   "metadata": {},
   "outputs": [],
   "source": [
    "# Read our existing data\n",
    "\n",
    "adata = anndata.read_h5ad(ADATA_PATH)\n",
    "exp_rates = pd.read_csv(LV_GROWTH_PATH, index_col=0)\n",
    "exp_rates"
   ]
  },
  {
   "cell_type": "code",
   "execution_count": null,
   "id": "d947321a",
   "metadata": {},
   "outputs": [],
   "source": [
    "print(adata.obs.head(10))"
   ]
  },
  {
   "cell_type": "code",
   "execution_count": null,
   "id": "879c0e92",
   "metadata": {},
   "outputs": [],
   "source": [
    "adata.write_h5ad(ADATA_PATH, compression='gzip')"
   ]
  },
  {
   "cell_type": "code",
   "execution_count": null,
   "id": "8a39fc07",
   "metadata": {},
   "outputs": [],
   "source": [
    "ot_model = wot.ot.OTModel(adata, day_field = 'hpf', growth_rate_field='lv_growth', epsilon = 0.05, lambda1= 1, lambda2= 50, growth_iters = 20)\n",
    "\n",
    "ot_model.compute_all_transport_maps(tmap_out=TMAP_SAVE_PATH)\n",
    "\n",
    "tmap_model = wot.tmap.TransportMapModel.from_directory(TMAP_SAVE_PATH)"
   ]
  },
  {
   "cell_type": "code",
   "execution_count": null,
   "id": "2f0baffe",
   "metadata": {},
   "outputs": [],
   "source": [
    "# Check for convergence by computing the mean difference between growth iters\n",
    "c_6_9 = tmap_model.get_coupling(42, 48)\n",
    "\n",
    "for i in range(len(c_6_9.obs.columns)-1):\n",
    "    print(np.abs(c_6_9.obs.iloc[:, i+1] - c_6_9.obs.iloc[:, i]).mean())"
   ]
  },
  {
   "cell_type": "code",
   "execution_count": null,
   "id": "5ded6ed2",
   "metadata": {},
   "outputs": [],
   "source": []
  }
 ],
 "metadata": {
  "hide_input": false,
  "kernelspec": {
   "display_name": "Python 3 (ipykernel)",
   "language": "python",
   "name": "python3"
  },
  "language_info": {
   "codemirror_mode": {
    "name": "ipython",
    "version": 3
   },
   "file_extension": ".py",
   "mimetype": "text/x-python",
   "name": "python",
   "nbconvert_exporter": "python",
   "pygments_lexer": "ipython3",
   "version": "3.11.2"
  }
 },
 "nbformat": 4,
 "nbformat_minor": 5
}
