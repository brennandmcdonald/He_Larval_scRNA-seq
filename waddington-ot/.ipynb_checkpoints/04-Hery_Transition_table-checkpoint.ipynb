{
 "cells": [
  {
   "cell_type": "markdown",
   "id": "damaged-consultation",
   "metadata": {},
   "source": [
    "# Make Transition Table"
   ]
  },
  {
   "cell_type": "markdown",
   "id": "owned-arabic",
   "metadata": {},
   "source": [
    "## Read Data and Make Trajectories"
   ]
  },
  {
   "cell_type": "code",
   "execution_count": null,
   "id": "local-insight",
   "metadata": {
    "ExecuteTime": {
     "end_time": "2022-12-16T04:25:04.857298Z",
     "start_time": "2022-12-16T04:25:02.614685Z"
    }
   },
   "outputs": [],
   "source": [
    "import anndata\n",
    "import matplotlib.pyplot as plt\n",
    "import pandas as pd\n",
    "import numpy as np\n",
    "import wot\n",
    "import math\n",
    "import ipywidgets as widgets\n"
   ]
  },
  {
   "cell_type": "code",
   "execution_count": null,
   "id": "british-scholar",
   "metadata": {
    "ExecuteTime": {
     "end_time": "2022-12-16T04:25:04.861938Z",
     "start_time": "2022-12-16T04:25:04.859389Z"
    }
   },
   "outputs": [],
   "source": [
    "DATA_PATH = \"data/\"\n",
    "\n",
    "ADATA_PATH = DATA_PATH + 'HERY_adata_anno_v2.h5ad'\n",
    "TMAP_PATH = DATA_PATH + 'tmap/'\n",
    "PLT_SAVE_DIR = 'figs_out/'\n",
    "UMAP_PATH = DATA_PATH + 'HERY_umap.csv'\n",
    "VAR_PATH = DATA_PATH + 'HERY_var.csv'\n"
   ]
  },
  {
   "cell_type": "code",
   "execution_count": null,
   "id": "recent-render",
   "metadata": {
    "ExecuteTime": {
     "end_time": "2022-12-16T04:25:06.104711Z",
     "start_time": "2022-12-16T04:25:06.101818Z"
    }
   },
   "outputs": [],
   "source": [
    "T_FINAL = 60"
   ]
  },
  {
   "cell_type": "code",
   "execution_count": null,
   "id": "fabulous-schema",
   "metadata": {
    "ExecuteTime": {
     "end_time": "2022-12-16T04:25:07.356045Z",
     "start_time": "2022-12-16T04:25:06.403059Z"
    }
   },
   "outputs": [],
   "source": [
    "adata = anndata.read_h5ad(ADATA_PATH)\n",
    "tmap_model = wot.tmap.TransportMapModel.from_directory(TMAP_PATH)"
   ]
  },
  {
   "cell_type": "code",
   "execution_count": null,
   "id": "collect-austria",
   "metadata": {
    "ExecuteTime": {
     "end_time": "2022-12-16T04:25:09.868163Z",
     "start_time": "2022-12-16T04:25:09.861693Z"
    }
   },
   "outputs": [],
   "source": [
    "print(adata.obs.head(10))"
   ]
  },
  {
   "cell_type": "code",
   "execution_count": null,
   "id": "dense-fashion",
   "metadata": {
    "ExecuteTime": {
     "end_time": "2022-12-16T04:25:10.723921Z",
     "start_time": "2022-12-16T04:25:10.716110Z"
    }
   },
   "outputs": [],
   "source": [
    "# Create a cell types dictionary\n",
    "types = list(adata.obs['type'].unique())\n",
    "types.sort()\n",
    "\n",
    "cell_sets = {}\n",
    "for t in types:\n",
    "    cell_sets[t] = list(adata.obs.index[adata.obs.type == t])"
   ]
  },
  {
   "cell_type": "code",
   "execution_count": null,
   "id": "prescription-playlist",
   "metadata": {
    "ExecuteTime": {
     "end_time": "2022-12-16T04:25:12.825721Z",
     "start_time": "2022-12-16T04:25:11.834257Z"
    }
   },
   "outputs": [],
   "source": [
    "# Generate the fate probabilities for the types\n",
    "type_target_destinations = tmap_model.population_from_cell_sets(cell_sets, at_time=T_FINAL)\n",
    "type_fate_ds = tmap_model.fates(type_target_destinations)"
   ]
  },
  {
   "cell_type": "code",
   "execution_count": null,
   "id": "3f84a0c6",
   "metadata": {},
   "outputs": [],
   "source": [
    "populations = tmap_model.population_from_cell_sets(cell_sets, at_time=54)\n"
   ]
  },
  {
   "cell_type": "code",
   "execution_count": null,
   "id": "0530d37c",
   "metadata": {},
   "outputs": [],
   "source": [
    "trajectory_ds = tmap_model.trajectories(populations)"
   ]
  },
  {
   "cell_type": "code",
   "execution_count": null,
   "id": "67a0da07",
   "metadata": {},
   "outputs": [],
   "source": [
    "# Load embedding coordinates\n",
    "# Read the umap for the cells and add it on\n",
    "coord_df = pd.read_csv(UMAP_PATH, index_col=0)\n"
   ]
  },
  {
   "cell_type": "code",
   "execution_count": null,
   "id": "d5fdadc7",
   "metadata": {},
   "outputs": [],
   "source": [
    "nbins = 500\n",
    "xrange = coord_df['UMAP_1'].min(), coord_df['UMAP_1'].max()\n",
    "yrange = coord_df['UMAP_2'].min(), coord_df['UMAP_2'].max()\n",
    "coord_df['UMAP_1'] = np.floor(\n",
    "    np.interp(coord_df['UMAP_1'], [xrange[0], xrange[1]], [0, nbins - 1])).astype(int)\n",
    "coord_df['UMAP_2'] = np.floor(\n",
    "    np.interp(coord_df['UMAP_2'], [yrange[0], yrange[1]], [0, nbins - 1])).astype(int)\n",
    "trajectory_ds.obs = trajectory_ds.obs.join(coord_df)"
   ]
  },
  {
   "cell_type": "code",
   "execution_count": null,
   "id": "f989278e-f80c-471b-a790-3fd8867c151f",
   "metadata": {
    "scrolled": true
   },
   "outputs": [],
   "source": [
    "trajectory_ds.obs.copy()"
   ]
  },
  {
   "cell_type": "code",
   "execution_count": null,
   "id": "c0af6e45",
   "metadata": {
    "scrolled": true
   },
   "outputs": [],
   "source": [
    "#Load expression data\n",
    "adata = anndata.read_h5ad(ADATA_PATH)\n",
    "\n",
    "#Compute trends for all genes\n",
    "trajectory_trends = wot.tmap.trajectory_trends_from_trajectory(trajectory_ds, adata)\n",
    "\n",
    "# Save each trajectory in a separate file\n",
    "for i in range(len(trajectory_trends)):\n",
    "    wot.io.write_dataset(trajectory_trends[i], \"lineage_trends_60/\" + trajectory_ds.var.index[i] + '_trends.txt')"
   ]
  },
  {
   "cell_type": "code",
   "execution_count": null,
   "id": "b2ca9824",
   "metadata": {
    "scrolled": true
   },
   "outputs": [],
   "source": [
    "trajectory_trend_datasets = []\n",
    "trajectory_names = []\n",
    "\n",
    "for i in range(trajectory_ds.shape[1]):\n",
    "    trajectory_names.append(trajectory_ds.var.index[i]) \n",
    "    trajectory_trend_datasets.append(wot.io.read_dataset(\"lineage_trends_54/\" + trajectory_ds.var.index[i] + '_trends.txt'))"
   ]
  },
  {
   "cell_type": "markdown",
   "id": "132c987d",
   "metadata": {},
   "source": [
    "# Make the transition table"
   ]
  },
  {
   "cell_type": "code",
   "execution_count": null,
   "id": "8a1eeb69",
   "metadata": {},
   "outputs": [],
   "source": [
    "# Transition Table\n",
    "\n",
    "import numpy as np\n",
    "import pandas as pd\n",
    "from matplotlib import pyplot as plt\n",
    "\n",
    "import wot"
   ]
  },
  {
   "cell_type": "code",
   "execution_count": null,
   "id": "7366b00a",
   "metadata": {},
   "outputs": [],
   "source": [
    "start_populations = tmap_model.population_from_cell_sets(cell_sets, at_time=6)\n",
    "end_populations = tmap_model.population_from_cell_sets(cell_sets, at_time=60)\n",
    "\n",
    "# Select the correct row of the matrix to highlight the undifferentiated cell population\n",
    "transition_table = tmap_model.transition_table(start_populations, end_populations)[10]\n",
    "\n",
    "fig, ax = plt.subplots(figsize=(12, 12))\n",
    "im = ax.imshow(transition_table.X)\n",
    "\n",
    "# We want to show all ticks...\n",
    "ax.set_xticks(np.arange(len(transition_table.var_names)))\n",
    "ax.set_yticks(np.arange(len(transition_table.obs_names)))\n",
    "# ... and label them with the respective list entries\n",
    "ax.set_xticklabels(transition_table.var_names)\n",
    "ax.set_yticklabels(transition_table.obs_names)\n",
    "\n",
    "# Rotate the tick labels and set their alignment.\n",
    "plt.setp(ax.get_xticklabels(), rotation=45, ha=\"right\",\n",
    "         rotation_mode=\"anchor\")\n",
    "\n",
    "# Loop over data dimensions and create text annotations.\n",
    "for i in range(transition_table.shape[0]):\n",
    "    for j in range(transition_table.shape[1]):\n",
    "        text = ax.text(j, i, '{:.2f}'.format(transition_table.X[i, j]),\n",
    "                       ha=\"center\", va=\"center\", color=\"w\")\n",
    "fig.tight_layout()"
   ]
  },
  {
   "cell_type": "code",
   "execution_count": null,
   "id": "c43345a7-bd8a-4077-a583-1f85a5caaba7",
   "metadata": {},
   "outputs": [],
   "source": [
    "# Export the transition table for the undifferentiated cell cluster as a .csv file\n",
    "# for plotting in Figure 5\n",
    "undiff_ttable = transition_table.to_df().T\n",
    "undiff_ttable.to_csv(\"data/undifferentiated_ttable.csv\")"
   ]
  }
 ],
 "metadata": {
  "hide_input": false,
  "kernelspec": {
   "display_name": "Python 3 (ipykernel)",
   "language": "python",
   "name": "python3"
  },
  "language_info": {
   "codemirror_mode": {
    "name": "ipython",
    "version": 3
   },
   "file_extension": ".py",
   "mimetype": "text/x-python",
   "name": "python",
   "nbconvert_exporter": "python",
   "pygments_lexer": "ipython3",
   "version": "3.11.2"
  }
 },
 "nbformat": 4,
 "nbformat_minor": 5
}
